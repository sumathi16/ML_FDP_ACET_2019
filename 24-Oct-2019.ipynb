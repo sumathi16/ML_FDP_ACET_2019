{
 "cells": [
  {
   "cell_type": "markdown",
   "metadata": {},
   "source": [
    "Topics\n",
    "- ML Vocabulary\n",
    "- Supervised Learning\n",
    "    - KNN\n",
    "    - Logistic Regression\n",
    "- Train Test Split\n",
    "    - Underfitting\n",
    "    - Overfitting\n",
    "- Metrics\n",
    "- Working with titanic dataset"
   ]
  }
 ],
 "metadata": {
  "kernelspec": {
   "display_name": "Python 3",
   "language": "python",
   "name": "python3"
  },
  "language_info": {
   "codemirror_mode": {
    "name": "ipython",
    "version": 3
   },
   "file_extension": ".py",
   "mimetype": "text/x-python",
   "name": "python",
   "nbconvert_exporter": "python",
   "pygments_lexer": "ipython3",
   "version": "3.7.0"
  }
 },
 "nbformat": 4,
 "nbformat_minor": 2
}
